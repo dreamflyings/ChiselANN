{
 "cells": [
  {
   "cell_type": "code",
   "execution_count": 1,
   "metadata": {},
   "outputs": [],
   "source": [
    "import tensorflow as tf\n",
    "import matplotlib.pyplot as plt"
   ]
  },
  {
   "cell_type": "code",
   "execution_count": 2,
   "metadata": {},
   "outputs": [
    {
     "data": {
      "text/plain": "<tensorflow.python.keras.layers.core.Flatten at 0x1f5cc9f6308>"
     },
     "execution_count": 2,
     "metadata": {},
     "output_type": "execute_result"
    }
   ],
   "source": [
    "\n",
    "model = tf.keras.models.load_model('../resources/chisel_ann.h5')\n",
    "#model.evaluate(x_test, y_test)\n",
    "model.get_layer(index=0)"
   ]
  },
  {
   "cell_type": "code",
   "execution_count": 4,
   "metadata": {},
   "outputs": [],
   "source": [
    "flatten = model.get_layer(index = 0)\n",
    "dense = model.get_layer(index = 1)\n",
    "output = model.get_layer(index = 2)"
   ]
  },
  {
   "cell_type": "code",
   "execution_count": 3,
   "metadata": {},
   "outputs": [],
   "source": [
    "#output.bias\n",
    "#output.weights[0].numpy()"
   ]
  },
  {
   "cell_type": "code",
   "execution_count": 5,
   "metadata": {},
   "outputs": [],
   "source": [
    "def float_to_str( x ):\n",
    "  if isinstance( x[0], int ):\n",
    "    return x\n",
    "  return [ \"{:.6f}\".format( y ) for y in x ]\n",
    "\n",
    "def write_to_file( inputs, fname, no_dims = 4, additional_info = None ):\n",
    "  f_out = open( fname, \"w\" ,newline='')\n",
    "  wrt = csv.writer( f_out )\n",
    "  if additional_info is not None:\n",
    "    wrt.writerow( additional_info )\n",
    "  if no_dims >= 2:\n",
    "    for a in inputs:\n",
    "      if no_dims >= 3:\n",
    "          for b in a:\n",
    "              if no_dims == 4:\n",
    "                  for c in b:\n",
    "                      tmp = wrt.writerow( float_to_str( c ) )\n",
    "              else:\n",
    "                  tmp = wrt.writerow( float_to_str( b ) )\n",
    "      else:\n",
    "          tmp = wrt.writerow( float_to_str( a ) )\n",
    "  else:\n",
    "    tmp = wrt.writerow( float_to_str( inputs ) )\n",
    "  f_out.close()"
   ]
  },
  {
   "cell_type": "code",
   "execution_count": 7,
   "metadata": {},
   "outputs": [
    {
     "data": {
      "text/plain": "['-1.008349',\n '-0.228222',\n '-0.289498',\n '0.432872',\n '0.050301',\n '-0.001263',\n '-0.447924',\n '-0.571462',\n '0.166065',\n '0.273742']"
     },
     "execution_count": 7,
     "metadata": {},
     "output_type": "execute_result"
    }
   ],
   "source": [
    "float_to_str(output.weights[0][0].numpy())"
   ]
  },
  {
   "cell_type": "code",
   "execution_count": 43,
   "metadata": {},
   "outputs": [],
   "source": [
    "write_to_file(dense.weights[1].numpy(),'../resourcesdense_weights_bias.csv',1)\n",
    "write_to_file(dense.weights[0].numpy(),'../resourcesdense_weights.csv',2)\n",
    "write_to_file(output.weights[1].numpy(),'../resourcesdense1_weights_bias.csv',1)\n",
    "write_to_file(output.weights[0].numpy(),'../resourcesdense1_weights.csv',2)"
   ]
  },
  {
   "cell_type": "code",
   "execution_count": 48,
   "metadata": {},
   "outputs": [
    {
     "name": "stdout",
     "output_type": "stream",
     "text": "0.000244140625\n"
    }
   ],
   "source": [
    "a = 1\n",
    "for i in range(0,12):\n",
    "    a = a / 2\n",
    "print(a)"
   ]
  }
 ],
 "metadata": {
  "kernelspec": {
   "display_name": "Python 3",
   "language": "python",
   "name": "python3"
  },
  "language_info": {
   "codemirror_mode": {
    "name": "ipython",
    "version": 3
   },
   "file_extension": ".py",
   "mimetype": "text/x-python",
   "name": "python",
   "nbconvert_exporter": "python",
   "pygments_lexer": "ipython3",
   "version": "3.7.4-final"
  }
 },
 "nbformat": 4,
 "nbformat_minor": 2
}