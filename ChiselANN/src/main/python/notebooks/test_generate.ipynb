{
 "nbformat": 4,
 "nbformat_minor": 2,
 "metadata": {
  "language_info": {
   "name": "python",
   "codemirror_mode": {
    "name": "ipython",
    "version": 3
   },
   "version": "3.7.4-final"
  },
  "orig_nbformat": 2,
  "file_extension": ".py",
  "mimetype": "text/x-python",
  "name": "python",
  "npconvert_exporter": "python",
  "pygments_lexer": "ipython3",
  "version": 3,
  "kernelspec": {
   "name": "python37464bitbasecondad6b4e746291a42c191831ac87ca53e7c",
   "display_name": "Python 3.7.4 64-bit ('base': conda)"
  }
 },
 "cells": [
  {
   "cell_type": "code",
   "execution_count": 1,
   "metadata": {},
   "outputs": [],
   "source": [
    "import tensorflow as tf\n",
    "import numpy as np\n",
    "\n",
    "model = tf.keras.models.load_model('../../resources/chisel_ann.h5')\n",
    "#model.evaluate(x_test, y_test)\n",
    "#model.get_layer(index=0)\n",
    "#model.summary()\n"
   ]
  },
  {
   "cell_type": "code",
   "execution_count": 2,
   "metadata": {},
   "outputs": [],
   "source": [
    "dense1 = model.get_layer(index = 2)\n",
    "dense1_weights = dense1.weights[0].numpy()\n",
    "dense1_weights_int = np.empty([30,10], dtype = int) \n",
    "def round_to( x, bits_prec ):\n",
    "    factor = 1 << bits_prec\n",
    "    return np.round( x * factor )\n",
    "\n",
    "for i in range(len(dense1_weights)):\n",
    "    for j in range(len(dense1_weights[0])):\n",
    "        dense1_weights_int[i][j] = round_to(dense1_weights[i][j],4)\n",
    "\n",
    "dense1_input = np.loadtxt('../../resources/dense_output_7.csv',delimiter=',',dtype=float)\n",
    "dense1_input_int = np.empty(30,dtype=int)\n",
    "for i in range(len(dense1_input)):\n",
    "    dense1_input_int[i] = round_to(dense1_input[i],4)\n",
    "\n",
    "dense1_bias = dense1.weights[1].numpy()\n",
    "dense1_bias_int = np.empty(10, dtype = int) \n",
    "for i in range(len(dense1_bias)):\n",
    "    dense1_bias_int[i] = round_to(dense1_bias[i],4)\n",
    "    "
   ]
  },
  {
   "cell_type": "code",
   "execution_count": 3,
   "metadata": {},
   "outputs": [
    {
     "name": "stdout",
     "output_type": "stream",
     "text": "[ -852 -2478  -543   341 -2237 -1321 -3739  2210 -1307  -982]\n"
    }
   ],
   "source": [
    "result_int = np.dot(dense1_input_int,dense1_weights_int) + dense1_bias_int\n",
    "print(result_int)"
   ]
  },
  {
   "cell_type": "code",
   "execution_count": 4,
   "metadata": {},
   "outputs": [
    {
     "name": "stdout",
     "output_type": "stream",
     "text": "[ -3.43083901  -9.43118686  -2.0076142    1.20500057  -8.48418541\n  -5.02448331 -14.78117668   8.53362717  -5.22903724  -3.82197504]\n-55.0\n-151.0\n-32.0\n19.0\n-136.0\n-80.0\n-236.0\n137.0\n-84.0\n-61.0\n"
    }
   ],
   "source": [
    "result = np.dot(dense1_input,dense1_weights) + dense1_bias\n",
    "print(result)\n",
    "\n",
    "for i in range(len(result)):\n",
    "    print(round_to(result[i],4))"
   ]
  }
 ]
}