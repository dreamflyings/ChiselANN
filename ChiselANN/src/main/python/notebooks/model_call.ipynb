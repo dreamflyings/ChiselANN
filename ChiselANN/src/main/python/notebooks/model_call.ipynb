{
 "nbformat": 4,
 "nbformat_minor": 2,
 "metadata": {
  "language_info": {
   "name": "python",
   "codemirror_mode": {
    "name": "ipython",
    "version": 3
   },
   "version": "3.7.4-final"
  },
  "orig_nbformat": 2,
  "file_extension": ".py",
  "mimetype": "text/x-python",
  "name": "python",
  "npconvert_exporter": "python",
  "pygments_lexer": "ipython3",
  "version": 3,
  "kernelspec": {
   "name": "python37464bitbasecondad6b4e746291a42c191831ac87ca53e7c",
   "display_name": "Python 3.7.4 64-bit ('base': conda)"
  }
 },
 "cells": [
  {
   "cell_type": "code",
   "execution_count": 1,
   "metadata": {},
   "outputs": [],
   "source": [
    "import tensorflow as tf\n",
    "\n",
    "# get data from data set\n",
    "mnist = tf.keras.datasets.mnist\n",
    "(x_train, y_train),(x_test, y_test) = mnist.load_data()\n",
    "x_train, x_test = x_train / 255.0, x_test / 255.0\n",
    "\n",
    "# load model\n",
    "model = tf.keras.models.load_model('../resources/chisel_ann.h5')\n"
   ]
  },
  {
   "cell_type": "code",
   "execution_count": 3,
   "metadata": {},
   "outputs": [
    {
     "name": "stdout",
     "output_type": "stream",
     "text": "Model: \"sequential\"\n_________________________________________________________________\nLayer (type)                 Output Shape              Param #   \n=================================================================\nflatten (Flatten)            (None, 784)               0         \n_________________________________________________________________\ndense (Dense)                (None, 30)                23550     \n_________________________________________________________________\ndense_1 (Dense)              (None, 10)                310       \n=================================================================\nTotal params: 23,860\nTrainable params: 23,860\nNon-trainable params: 0\n_________________________________________________________________\n"
    }
   ],
   "source": [
    "flatten = model.get_layer(index = 0)\n",
    "dense = model.get_layer(index = 1)\n",
    "dense1 = model.get_layer(index = 2)\n",
    "model.summary()"
   ]
  },
  {
   "cell_type": "code",
   "execution_count": 4,
   "metadata": {},
   "outputs": [
    {
     "name": "stdout",
     "output_type": "stream",
     "text": "(None, 28, 28)\n(None, 784)\n(10000, 28, 28)\n7\n2\n1\n0\n4\n(5, 28, 28)\n"
    }
   ],
   "source": [
    "print(flatten.input_shape)\n",
    "print(flatten.output_shape)\n",
    "print(x_test.shape)\n",
    "input_img = tf.convert_to_tensor(x_test[:5])\n",
    "for i in range(0,5):\n",
    "    print(y_test[i])\n",
    "print(input_img.shape)"
   ]
  },
  {
   "cell_type": "code",
   "execution_count": 5,
   "metadata": {},
   "outputs": [
    {
     "name": "stdout",
     "output_type": "stream",
     "text": "tf.Tensor(\n[[0. 0. 0. ... 0. 0. 0.]\n [0. 0. 0. ... 0. 0. 0.]\n [0. 0. 0. ... 0. 0. 0.]\n [0. 0. 0. ... 0. 0. 0.]\n [0. 0. 0. ... 0. 0. 0.]], shape=(5, 784), dtype=float32)\n"
    }
   ],
   "source": [
    "flatten_output = flatten(input_img)\n",
    "#dense_output = dense.apply(flatten_output)\n",
    "print(flatten_output)\n",
    "#print(dense_output)\n"
   ]
  },
  {
   "cell_type": "code",
   "execution_count": 8,
   "metadata": {},
   "outputs": [],
   "source": [
    "# generate csv\n",
    "def float_to_str( x ):\n",
    "  if isinstance( x[0], int ):\n",
    "    return x\n",
    "  return [ \"{:.6f}\".format( y ) for y in x ]\n",
    "\n",
    "def write_to_file( inputs, fname, no_dims = 4, additional_info = None ):\n",
    "  f_out = open( fname, \"w\" ,newline='')\n",
    "  wrt = csv.writer( f_out )\n",
    "  if additional_info is not None:\n",
    "    wrt.writerow( additional_info )\n",
    "  if no_dims >= 2:\n",
    "    for a in inputs:\n",
    "      if no_dims >= 3:\n",
    "          for b in a:\n",
    "              if no_dims == 4:\n",
    "                  for c in b:\n",
    "                      tmp = wrt.writerow( float_to_str( c ) )\n",
    "              else:\n",
    "                  tmp = wrt.writerow( float_to_str( b ) )\n",
    "      else:\n",
    "          tmp = wrt.writerow( float_to_str( a ) )\n",
    "  else:\n",
    "    tmp = wrt.writerow( float_to_str( inputs ) )\n",
    "  f_out.close()\n",
    "\n",
    "import csv"
   ]
  },
  {
   "cell_type": "code",
   "execution_count": 103,
   "metadata": {},
   "outputs": [],
   "source": [
    "write_to_file(flatten_output[0].numpy(),'../resources/flatten_output_7.csv',1)\n",
    "write_to_file(flatten_output[1].numpy(),'../resources/flatten_output_2.csv',1)\n",
    "write_to_file(flatten_output[2].numpy(),'../resources/flatten_output_1.csv',1)\n",
    "write_to_file(flatten_output[3].numpy(),'../resources/flatten_output_0.csv',1)\n",
    "write_to_file(flatten_output[4].numpy(),'../resources/flatten_output_4.csv',1)"
   ]
  },
  {
   "cell_type": "code",
   "execution_count": 9,
   "metadata": {},
   "outputs": [
    {
     "name": "stdout",
     "output_type": "stream",
     "text": "(5, 30)\n"
    }
   ],
   "source": [
    "dense_output = dense(flatten_output)\n",
    "print(dense_output.shape)"
   ]
  },
  {
   "cell_type": "code",
   "execution_count": 106,
   "metadata": {},
   "outputs": [],
   "source": [
    "write_to_file(dense_output[0].numpy(),'../resources/dense_output_7.csv',1)\n",
    "write_to_file(dense_output[1].numpy(),'../resources/dense_output_2.csv',1)\n",
    "write_to_file(dense_output[2].numpy(),'../resources/dense_output_1.csv',1)\n",
    "write_to_file(dense_output[3].numpy(),'../resources/dense_output_0.csv',1)\n",
    "write_to_file(dense_output[4].numpy(),'../resources/dense_output_4.csv',1)"
   ]
  },
  {
   "cell_type": "code",
   "execution_count": 10,
   "metadata": {},
   "outputs": [
    {
     "name": "stdout",
     "output_type": "stream",
     "text": "(5, 10)\n"
    }
   ],
   "source": [
    "dense1_output = dense1(dense_output)\n",
    "print(dense1_output.shape)"
   ]
  },
  {
   "cell_type": "code",
   "execution_count": 108,
   "metadata": {},
   "outputs": [],
   "source": [
    "write_to_file(dense1_output[0].numpy(),'../resources/dense1_output_7.csv',1)\n",
    "write_to_file(dense1_output[1].numpy(),'../resources/dense1_output_2.csv',1)\n",
    "write_to_file(dense1_output[2].numpy(),'../resources/dense1_output_1.csv',1)\n",
    "write_to_file(dense1_output[3].numpy(),'../resources/dense1_output_0.csv',1)\n",
    "write_to_file(dense1_output[4].numpy(),'../resources/dense1_output_4.csv',1)"
   ]
  }
 ]
}