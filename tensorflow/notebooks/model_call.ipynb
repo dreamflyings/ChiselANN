{
 "nbformat": 4,
 "nbformat_minor": 2,
 "metadata": {
  "language_info": {
   "name": "python",
   "codemirror_mode": {
    "name": "ipython",
    "version": 3
   },
   "version": "3.7.4-final"
  },
  "orig_nbformat": 2,
  "file_extension": ".py",
  "mimetype": "text/x-python",
  "name": "python",
  "npconvert_exporter": "python",
  "pygments_lexer": "ipython3",
  "version": 3,
  "kernelspec": {
   "name": "python37464bitbasecondad6b4e746291a42c191831ac87ca53e7c",
   "display_name": "Python 3.7.4 64-bit ('base': conda)"
  }
 },
 "cells": [
  {
   "cell_type": "code",
   "execution_count": 73,
   "metadata": {},
   "outputs": [],
   "source": [
    "import tensorflow as tf\n",
    "\n",
    "# get data from data set\n",
    "mnist = tf.keras.datasets.mnist\n",
    "(x_train, y_train),(x_test, y_test) = mnist.load_data()\n",
    "x_train, x_test = x_train / 255.0, x_test / 255.0\n",
    "\n",
    "# load model\n",
    "model = tf.keras.models.load_model('../resources/chisel_ann.h5')\n"
   ]
  },
  {
   "cell_type": "code",
   "execution_count": 74,
   "metadata": {},
   "outputs": [
    {
     "name": "stdout",
     "output_type": "stream",
     "text": "Model: \"sequential\"\n_________________________________________________________________\nLayer (type)                 Output Shape              Param #   \n=================================================================\nflatten (Flatten)            (None, 784)               0         \n_________________________________________________________________\ndense (Dense)                (None, 30)                23550     \n_________________________________________________________________\ndense_1 (Dense)              (None, 10)                310       \n=================================================================\nTotal params: 23,860\nTrainable params: 23,860\nNon-trainable params: 0\n_________________________________________________________________\n"
    }
   ],
   "source": [
    "flatten = model.get_layer(index = 0)\n",
    "dense = model.get_layer(index = 1)\n",
    "dense1 = model.get_layer(index = 2)\n",
    "model.summary()"
   ]
  },
  {
   "cell_type": "code",
   "execution_count": 96,
   "metadata": {},
   "outputs": [
    {
     "name": "stdout",
     "output_type": "stream",
     "text": "(None, 28, 28)\n(None, 784)\n(10000, 28, 28)\n7\n2\n1\n0\n4\n(10, 28, 28)\n"
    }
   ],
   "source": [
    "print(flatten.input_shape)\n",
    "print(flatten.output_shape)\n",
    "print(x_test.shape)\n",
    "input_img = tf.convert_to_tensor(x_test[:5])\n",
    "for i in range(0,5):\n",
    "    print(y_test[i])\n",
    "print(input_img.shape)"
   ]
  },
  {
   "cell_type": "code",
   "execution_count": 97,
   "metadata": {},
   "outputs": [
    {
     "name": "stdout",
     "output_type": "stream",
     "text": "tf.Tensor(\n[[0. 0. 0. ... 0. 0. 0.]\n [0. 0. 0. ... 0. 0. 0.]\n [0. 0. 0. ... 0. 0. 0.]\n ...\n [0. 0. 0. ... 0. 0. 0.]\n [0. 0. 0. ... 0. 0. 0.]\n [0. 0. 0. ... 0. 0. 0.]], shape=(10, 784), dtype=float32)\n"
    }
   ],
   "source": [
    "flatten_output = flatten(input_img)\n",
    "#dense_output = dense.apply(flatten_output)\n",
    "print(flatten_output)\n",
    "#print(dense_output)\n"
   ]
  },
  {
   "cell_type": "code",
   "execution_count": 100,
   "metadata": {},
   "outputs": [],
   "source": [
    "# generate csv\n",
    "def float_to_str( x ):\n",
    "  if isinstance( x[0], int ):\n",
    "    return x\n",
    "  return [ \"{:.6f}\".format( y ) for y in x ]\n",
    "\n",
    "def write_to_file( inputs, fname, no_dims = 4, additional_info = None ):\n",
    "  f_out = open( fname, \"w\" ,newline='')\n",
    "  wrt = csv.writer( f_out )\n",
    "  if additional_info is not None:\n",
    "    wrt.writerow( additional_info )\n",
    "  if no_dims >= 2:\n",
    "    for a in inputs:\n",
    "      if no_dims >= 3:\n",
    "          for b in a:\n",
    "              if no_dims == 4:\n",
    "                  for c in b:\n",
    "                      tmp = wrt.writerow( float_to_str( c ) )\n",
    "              else:\n",
    "                  tmp = wrt.writerow( float_to_str( b ) )\n",
    "      else:\n",
    "          tmp = wrt.writerow( float_to_str( a ) )\n",
    "  else:\n",
    "    tmp = wrt.writerow( float_to_str( inputs ) )\n",
    "  f_out.close()\n",
    "\n",
    "import csv"
   ]
  },
  {
   "cell_type": "code",
   "execution_count": 103,
   "metadata": {},
   "outputs": [],
   "source": [
    "write_to_file(flatten_output[0].numpy(),'../resources/flatten_output_7.csv',1)\n",
    "write_to_file(flatten_output[1].numpy(),'../resources/flatten_output_2.csv',1)\n",
    "write_to_file(flatten_output[2].numpy(),'../resources/flatten_output_1.csv',1)\n",
    "write_to_file(flatten_output[3].numpy(),'../resources/flatten_output_0.csv',1)\n",
    "write_to_file(flatten_output[4].numpy(),'../resources/flatten_output_4.csv',1)"
   ]
  },
  {
   "cell_type": "code",
   "execution_count": 104,
   "metadata": {},
   "outputs": [
    {
     "name": "stdout",
     "output_type": "stream",
     "text": "tf.Tensor(\n[[0.00000000e+00 0.00000000e+00 1.61567950e+00 3.09565604e-01\n  0.00000000e+00 0.00000000e+00 4.44725800e+00 0.00000000e+00\n  4.52775812e+00 0.00000000e+00 4.70634043e-01 4.24475622e+00\n  0.00000000e+00 4.48979235e+00 0.00000000e+00 3.23951864e+00\n  1.98626089e+00 5.08578587e+00 0.00000000e+00 1.14004278e+00\n  2.79606104e+00 0.00000000e+00 2.29148436e+00 6.08379078e+00\n  0.00000000e+00 0.00000000e+00 0.00000000e+00 2.33813262e+00\n  4.78089857e+00 4.54860353e+00]\n [1.37550092e+00 8.59603691e+00 4.60874128e+00 0.00000000e+00\n  0.00000000e+00 0.00000000e+00 3.07765937e+00 4.85279274e+00\n  7.89719439e+00 5.77173233e+00 3.29267412e-01 0.00000000e+00\n  7.71024084e+00 1.66868639e+00 0.00000000e+00 8.87435436e+00\n  0.00000000e+00 0.00000000e+00 0.00000000e+00 2.49280953e+00\n  0.00000000e+00 2.07518482e+00 0.00000000e+00 0.00000000e+00\n  2.85952044e+00 1.82564116e+00 0.00000000e+00 0.00000000e+00\n  0.00000000e+00 0.00000000e+00]\n [4.26937163e-01 4.67150354e+00 1.86784828e+00 0.00000000e+00\n  0.00000000e+00 2.13813305e+00 0.00000000e+00 0.00000000e+00\n  2.20889854e+00 2.36204052e+00 0.00000000e+00 7.98648596e-03\n  2.20817590e+00 2.45250249e+00 0.00000000e+00 7.79237568e-01\n  3.34955239e+00 1.44032919e+00 0.00000000e+00 0.00000000e+00\n  1.35424942e-01 0.00000000e+00 0.00000000e+00 1.46556365e+00\n  0.00000000e+00 0.00000000e+00 0.00000000e+00 0.00000000e+00\n  0.00000000e+00 0.00000000e+00]\n [0.00000000e+00 1.60273969e-01 5.81954002e-01 0.00000000e+00\n  0.00000000e+00 0.00000000e+00 8.07966423e+00 5.88344526e+00\n  4.42758179e+00 0.00000000e+00 6.18786669e+00 0.00000000e+00\n  4.40608168e+00 3.07886052e+00 0.00000000e+00 5.63429832e+00\n  1.64511228e+00 0.00000000e+00 4.90828045e-02 6.74810839e+00\n  0.00000000e+00 1.86034882e+00 1.46023560e+00 7.01384163e+00\n  3.54180288e+00 8.90057087e+00 0.00000000e+00 1.74999642e+00\n  3.46094155e+00 3.46782780e+00]\n [0.00000000e+00 1.11774802e-02 3.14708114e-01 0.00000000e+00\n  0.00000000e+00 0.00000000e+00 0.00000000e+00 0.00000000e+00\n  5.41799963e-01 0.00000000e+00 4.10152674e+00 2.50836468e+00\n  1.00559270e+00 5.84851623e-01 1.30188394e+00 3.63609791e+00\n  0.00000000e+00 5.07946014e+00 2.23388791e+00 2.65599823e+00\n  5.24786264e-02 0.00000000e+00 3.36785913e+00 4.84592485e+00\n  6.89583826e+00 1.03797758e+00 0.00000000e+00 9.58584309e-01\n  4.50526208e-01 0.00000000e+00]\n [0.00000000e+00 5.78211403e+00 1.80678558e+00 3.35687816e-01\n  0.00000000e+00 3.06010866e+00 0.00000000e+00 0.00000000e+00\n  3.09447026e+00 2.62324429e+00 0.00000000e+00 1.65305197e-01\n  1.93220901e+00 4.18594456e+00 0.00000000e+00 8.44272316e-01\n  4.83218098e+00 3.04523253e+00 0.00000000e+00 1.95718855e-02\n  8.75651062e-01 0.00000000e+00 2.63880581e-01 2.38420987e+00\n  0.00000000e+00 0.00000000e+00 0.00000000e+00 0.00000000e+00\n  0.00000000e+00 0.00000000e+00]\n [5.69002581e+00 0.00000000e+00 0.00000000e+00 0.00000000e+00\n  0.00000000e+00 3.59010249e-01 2.63532472e+00 0.00000000e+00\n  2.84950972e+00 0.00000000e+00 1.31835699e+00 2.84898329e+00\n  4.58262295e-01 0.00000000e+00 2.25181174e+00 2.92894983e+00\n  2.66275048e-01 6.66840315e+00 4.14944649e+00 1.36630321e+00\n  0.00000000e+00 0.00000000e+00 2.64816642e+00 5.17157078e+00\n  4.74691963e+00 0.00000000e+00 0.00000000e+00 2.48468566e+00\n  0.00000000e+00 9.88229275e-01]\n [4.28847647e+00 1.35414720e+00 0.00000000e+00 1.98271441e+00\n  0.00000000e+00 4.28292513e+00 0.00000000e+00 2.63899043e-02\n  0.00000000e+00 0.00000000e+00 0.00000000e+00 2.73200107e+00\n  3.68335152e+00 0.00000000e+00 1.13276529e+00 1.08018267e+00\n  8.81294370e-01 8.05114937e+00 9.95295823e-01 4.36150074e-01\n  0.00000000e+00 0.00000000e+00 2.36914062e+00 3.43422437e+00\n  4.18724966e+00 0.00000000e+00 3.76172090e+00 0.00000000e+00\n  2.55811381e+00 0.00000000e+00]\n [0.00000000e+00 3.86377454e+00 2.55770588e+00 0.00000000e+00\n  0.00000000e+00 0.00000000e+00 1.05294442e+00 0.00000000e+00\n  0.00000000e+00 0.00000000e+00 6.58477068e+00 7.56674290e-01\n  5.73961210e+00 0.00000000e+00 3.97707283e-01 5.38732862e+00\n  2.95946896e-01 7.39758730e-01 5.79237938e+00 3.97700596e+00\n  1.89166355e+00 5.51726294e+00 1.09261364e-01 5.15008259e+00\n  3.07287621e+00 3.62969780e+00 0.00000000e+00 0.00000000e+00\n  7.47860372e-01 4.33037430e-01]\n [1.05001414e+00 0.00000000e+00 0.00000000e+00 3.31569910e+00\n  0.00000000e+00 8.82959604e-01 7.71315575e-01 0.00000000e+00\n  2.22297168e+00 0.00000000e+00 8.25552106e-01 3.50214529e+00\n  0.00000000e+00 5.48590708e+00 3.90776217e-01 2.81598926e+00\n  4.93431664e+00 9.67227745e+00 2.61393714e+00 5.34737778e+00\n  0.00000000e+00 0.00000000e+00 6.14531422e+00 1.03075914e+01\n  0.00000000e+00 0.00000000e+00 0.00000000e+00 3.63840723e+00\n  2.91089916e+00 7.49468923e-01]], shape=(10, 30), dtype=float32)\n"
    }
   ],
   "source": [
    "dense_output = dense(flatten_output)\n",
    "print(dense_output)"
   ]
  },
  {
   "cell_type": "code",
   "execution_count": 106,
   "metadata": {},
   "outputs": [],
   "source": [
    "write_to_file(dense_output[0].numpy(),'../resources/dense_output_7.csv',1)\n",
    "write_to_file(dense_output[1].numpy(),'../resources/dense_output_2.csv',1)\n",
    "write_to_file(dense_output[2].numpy(),'../resources/dense_output_1.csv',1)\n",
    "write_to_file(dense_output[3].numpy(),'../resources/dense_output_0.csv',1)\n",
    "write_to_file(dense_output[4].numpy(),'../resources/dense_output_4.csv',1)"
   ]
  },
  {
   "cell_type": "code",
   "execution_count": 107,
   "metadata": {},
   "outputs": [
    {
     "name": "stdout",
     "output_type": "stream",
     "text": "tf.Tensor(\n[[6.36205596e-06 1.57644422e-08 2.64055980e-05 6.56018907e-04\n  4.06402663e-08 1.29266573e-06 7.48527768e-11 9.99304533e-01\n  1.05353593e-06 4.30257842e-06]\n [8.36807715e-07 9.98060126e-03 9.88756835e-01 8.07815522e-04\n  2.48781690e-11 2.09803839e-04 1.34084679e-04 1.11897447e-09\n  1.10011417e-04 3.20766430e-14]\n [6.74058992e-06 9.89738882e-01 3.04041198e-03 1.29020738e-03\n  1.87568454e-04 3.02318978e-04 1.17333198e-03 1.67450961e-03\n  2.57382193e-03 1.23139207e-05]\n [9.99981880e-01 2.38617903e-10 4.24579594e-06 6.84120153e-07\n  1.26228574e-08 3.48935544e-07 7.56550753e-06 2.63034281e-06\n  8.27872215e-11 2.68120402e-06]\n [1.70869008e-03 4.97541519e-09 1.91839845e-05 5.12128145e-06\n  9.31727588e-01 2.87064788e-04 5.64094749e-04 4.81578667e-04\n  2.20620132e-04 6.49859458e-02]\n [7.85229133e-07 9.97198939e-01 1.60295531e-04 2.65975745e-04\n  1.86865600e-05 8.18043372e-06 5.92359829e-05 1.83620327e-03\n  4.48078150e-04 3.83216184e-06]\n [4.37806875e-07 1.78936784e-06 7.25559767e-06 3.36411613e-04\n  9.72545326e-01 1.96951418e-03 5.76913953e-05 4.23480570e-03\n  7.63066206e-03 1.32160354e-02]\n [2.70563518e-08 1.23969876e-05 1.47455330e-05 1.21408775e-04\n  2.52604461e-03 1.64658486e-04 3.80091564e-07 3.61860759e-04\n  3.52809548e-05 9.96763229e-01]\n [7.59395043e-05 7.62847492e-08 4.20118542e-03 1.17642742e-06\n  2.23588795e-05 1.47749567e-02 9.80386317e-01 8.52016342e-07\n  5.34656167e-04 2.49575851e-06]\n [3.05925232e-06 6.59973335e-12 1.17634585e-07 3.92490534e-07\n  3.34598997e-04 5.16122540e-08 1.09907849e-09 6.36673346e-03\n  1.10228966e-05 9.93283987e-01]], shape=(10, 10), dtype=float32)\n"
    }
   ],
   "source": [
    "dense1_output = dense1(dense_output)\n",
    "print(dense1_output)"
   ]
  },
  {
   "cell_type": "code",
   "execution_count": 108,
   "metadata": {},
   "outputs": [],
   "source": [
    "write_to_file(dense1_output[0].numpy(),'../resources/dense1_output_7.csv',1)\n",
    "write_to_file(dense1_output[1].numpy(),'../resources/dense1_output_2.csv',1)\n",
    "write_to_file(dense1_output[2].numpy(),'../resources/dense1_output_1.csv',1)\n",
    "write_to_file(dense1_output[3].numpy(),'../resources/dense1_output_0.csv',1)\n",
    "write_to_file(dense1_output[4].numpy(),'../resources/dense1_output_4.csv',1)"
   ]
  },
  {
   "cell_type": "code",
   "execution_count": 110,
   "metadata": {},
   "outputs": [
    {
     "ename": "AttributeError",
     "evalue": "Can't set the attribute \"weights\", likely because it conflicts with an existing read-only @property of the object. Please choose a different name.",
     "output_type": "error",
     "traceback": [
      "\u001b[1;31m---------------------------------------------------------------------------\u001b[0m",
      "\u001b[1;31mAttributeError\u001b[0m                            Traceback (most recent call last)",
      "\u001b[1;32mG:\\Anaconda\\lib\\site-packages\\tensorflow_core\\python\\keras\\engine\\base_layer.py\u001b[0m in \u001b[0;36m__setattr__\u001b[1;34m(self, name, value)\u001b[0m\n\u001b[0;32m   2255\u001b[0m       \u001b[1;32mtry\u001b[0m\u001b[1;33m:\u001b[0m\u001b[1;33m\u001b[0m\u001b[1;33m\u001b[0m\u001b[0m\n\u001b[1;32m-> 2256\u001b[1;33m         \u001b[0msuper\u001b[0m\u001b[1;33m(\u001b[0m\u001b[0mtracking\u001b[0m\u001b[1;33m.\u001b[0m\u001b[0mAutoTrackable\u001b[0m\u001b[1;33m,\u001b[0m \u001b[0mself\u001b[0m\u001b[1;33m)\u001b[0m\u001b[1;33m.\u001b[0m\u001b[0m__setattr__\u001b[0m\u001b[1;33m(\u001b[0m\u001b[0mname\u001b[0m\u001b[1;33m,\u001b[0m \u001b[0mvalue\u001b[0m\u001b[1;33m)\u001b[0m\u001b[1;33m\u001b[0m\u001b[1;33m\u001b[0m\u001b[0m\n\u001b[0m\u001b[0;32m   2257\u001b[0m       \u001b[1;32mexcept\u001b[0m \u001b[0mAttributeError\u001b[0m\u001b[1;33m:\u001b[0m\u001b[1;33m\u001b[0m\u001b[1;33m\u001b[0m\u001b[0m\n",
      "\u001b[1;31mAttributeError\u001b[0m: can't set attribute",
      "\nDuring handling of the above exception, another exception occurred:\n",
      "\u001b[1;31mAttributeError\u001b[0m                            Traceback (most recent call last)",
      "\u001b[1;32m<ipython-input-110-c0d5e75ede3e>\u001b[0m in \u001b[0;36m<module>\u001b[1;34m\u001b[0m\n\u001b[0;32m      2\u001b[0m \u001b[0mdense1_with_relu\u001b[0m \u001b[1;33m=\u001b[0m \u001b[0mDense\u001b[0m\u001b[1;33m(\u001b[0m\u001b[1;36m10\u001b[0m\u001b[1;33m,\u001b[0m\u001b[0mactivation\u001b[0m\u001b[1;33m=\u001b[0m\u001b[1;34m'relu'\u001b[0m\u001b[1;33m)\u001b[0m\u001b[1;33m\u001b[0m\u001b[1;33m\u001b[0m\u001b[0m\n\u001b[0;32m      3\u001b[0m \u001b[0mdense1_with_relu\u001b[0m\u001b[1;33m.\u001b[0m\u001b[0mbias\u001b[0m \u001b[1;33m=\u001b[0m \u001b[0mdense1\u001b[0m\u001b[1;33m.\u001b[0m\u001b[0mbias\u001b[0m\u001b[1;33m\u001b[0m\u001b[1;33m\u001b[0m\u001b[0m\n\u001b[1;32m----> 4\u001b[1;33m \u001b[0mdense1_with_relu\u001b[0m\u001b[1;33m.\u001b[0m\u001b[0mweights\u001b[0m \u001b[1;33m=\u001b[0m \u001b[0mdense1\u001b[0m\u001b[1;33m.\u001b[0m\u001b[0mweights\u001b[0m\u001b[1;33m\u001b[0m\u001b[1;33m\u001b[0m\u001b[0m\n\u001b[0m",
      "\u001b[1;32mG:\\Anaconda\\lib\\site-packages\\tensorflow_core\\python\\keras\\engine\\base_layer.py\u001b[0m in \u001b[0;36m__setattr__\u001b[1;34m(self, name, value)\u001b[0m\n\u001b[0;32m   2259\u001b[0m             ('Can\\'t set the attribute \"{}\", likely because it conflicts with '\n\u001b[0;32m   2260\u001b[0m              \u001b[1;34m'an existing read-only @property of the object. Please choose a '\u001b[0m\u001b[1;33m\u001b[0m\u001b[1;33m\u001b[0m\u001b[0m\n\u001b[1;32m-> 2261\u001b[1;33m              'different name.').format(name))\n\u001b[0m\u001b[0;32m   2262\u001b[0m       \u001b[1;32mreturn\u001b[0m\u001b[1;33m\u001b[0m\u001b[1;33m\u001b[0m\u001b[0m\n\u001b[0;32m   2263\u001b[0m \u001b[1;33m\u001b[0m\u001b[0m\n",
      "\u001b[1;31mAttributeError\u001b[0m: Can't set the attribute \"weights\", likely because it conflicts with an existing read-only @property of the object. Please choose a different name."
     ]
    }
   ],
   "source": [
    "from tensorflow.keras.layers import Dense\n",
    "dense1_with_relu = Dense(10,activation='relu')\n",
    "dense1_with_relu.bias = dense1.bias\n",
    "dense1_with_relu.weights = dense1.weights"
   ]
  }
 ]
}